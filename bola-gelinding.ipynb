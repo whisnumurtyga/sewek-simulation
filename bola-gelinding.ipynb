{
 "cells": [
  {
   "cell_type": "code",
   "execution_count": 1,
   "metadata": {},
   "outputs": [
    {
     "name": "stdout",
     "output_type": "stream",
     "text": [
      "Jarak bola menggelinding: 0.4320000000000001 meter\n"
     ]
    }
   ],
   "source": [
    "import math\n",
    "\n",
    "def jarak_gelinding(dorongan_N, massa_bola, radius_bola, percepatan_gravitasi):\n",
    "    # Menghitung inersia bola yang menggelinding tergantung pada massa dan radiusnya\n",
    "    inersia_bola = (2/5) * massa_bola * radius_bola**2\n",
    "    \n",
    "    # Menghitung percepatan bola dengan hukum Newton (F = m * a)\n",
    "    percepatan_bola = dorongan_N / massa_bola\n",
    "    \n",
    "    # Menghitung percepatan angular bola (alpha) dengan hukum Newton (τ = I * α)\n",
    "    percepatan_angular = dorongan_N * radius_bola / inersia_bola\n",
    "    \n",
    "    # Menghitung waktu bola untuk mencapai kecepatan akhir (v = u + a * t)\n",
    "    waktu_akselerasi = percepatan_bola / percepatan_angular\n",
    "    \n",
    "    # Menghitung kecepatan akhir bola setelah dorongan (v = u + a * t)\n",
    "    kecepatan_akhir = percepatan_bola * waktu_akselerasi\n",
    "    \n",
    "    # Menghitung jarak bola menggelinding menggunakan persamaan gerak lurus (s = ut + 0.5 * a * t^2)\n",
    "    jarak = kecepatan_akhir * waktu_akselerasi + 0.5 * percepatan_angular * waktu_akselerasi**2\n",
    "    \n",
    "    return jarak\n",
    "\n",
    "# Contoh penggunaan fungsi untuk bola dengan massa 0.5 kg, radius 0.1 m, dan percepatan gravitasi 9.81 m/s^2\n",
    "dorongan_N = 10  # Besar dorongan dalam N (Newton)\n",
    "massa_bola = 0.5  # Massa bola dalam kg\n",
    "radius_bola = 0.1  # Radius bola dalam meter\n",
    "percepatan_gravitasi = 9.81  # Percepatan gravitasi dalam m/s^2\n",
    "\n",
    "jarak = jarak_gelinding(dorongan_N, massa_bola, radius_bola, percepatan_gravitasi)\n",
    "print(\"Jarak bola menggelinding:\", jarak, \"meter\")\n"
   ]
  }
 ],
 "metadata": {
  "kernelspec": {
   "display_name": "base",
   "language": "python",
   "name": "python3"
  },
  "language_info": {
   "codemirror_mode": {
    "name": "ipython",
    "version": 3
   },
   "file_extension": ".py",
   "mimetype": "text/x-python",
   "name": "python",
   "nbconvert_exporter": "python",
   "pygments_lexer": "ipython3",
   "version": "3.9.16"
  },
  "orig_nbformat": 4
 },
 "nbformat": 4,
 "nbformat_minor": 2
}
