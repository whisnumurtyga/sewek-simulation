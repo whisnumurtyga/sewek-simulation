{
 "cells": [
  {
   "cell_type": "code",
   "execution_count": 1,
   "metadata": {},
   "outputs": [],
   "source": [
    "# import functions from modsim\n",
    "from modsim import *"
   ]
  },
  {
   "cell_type": "markdown",
   "metadata": {},
   "source": [
    "#### **Variabel**\n",
    "`pop_unesa` : jumlah populasi UNESA <br>\n",
    "`pop_itts` : jumlah populasi ITTS <br>\n",
    "`pop_other` : jumlah populasi OTHER <br>\n",
    "`pop_swk` : jumlah populasi SWK <br>\n",
    "`swk_max` : daya tampung maksimal SWK <br>\n",
    "`bungkus` : jumlah orang yang bungkus <br>\n",
    "`unesa_empty` : variabel bantuan untuk handling kalo UNESA kosong <br>\n",
    "`itts_empty` : var bantuan untuk handling kalo ITTS empty <br>\n",
    "`other_empty` : var bantuan untuk handling kalo OTHER empty <br>"
   ]
  },
  {
   "cell_type": "code",
   "execution_count": null,
   "metadata": {},
   "outputs": [],
   "source": [
    "pop_unesa = 70\n",
    "pop_itts = 60\n",
    "pop_other = 40\n",
    "swk_max = 50\n",
    "sim = State(unesa=pop_unesa, itts=pop_itts, other=pop_other, swk=0, unesa_empty=0, itts_empty=0, other_empty=0, everyone_bungkus=0)"
   ]
  },
  {
   "cell_type": "markdown",
   "metadata": {},
   "source": [
    "#### **Observasi**\n",
    "- per `10 menit` katakan ada yang `datang` `2-5 orang`\n",
    "- per `30 menit` katakan ada yang `balik` `2-5 orang`\n",
    "- per `30 menit` ada `4-10 orang` `bungkus`\n",
    "- per `15 menit` `2-5 orang` `bungkus balik`"
   ]
  },
  {
   "cell_type": "markdown",
   "metadata": {},
   "source": [
    "#### **Probabilitas Orang per Menit (&alpha;)** \n",
    "- 2-5 `orang` bakal `datang` 5menit `(0.2)`\n",
    "- 2-5 `orang` bakal `balik` per 15menit `(0.07)`\n",
    "- 4-10 `orang` bakal `bungkus` per 7.5menit `(0.13)`\n",
    "- 2-5 `orang` yg `bungkus bakal ballik` per 15 menit `(0.07)`"
   ]
  },
  {
   "cell_type": "markdown",
   "metadata": {},
   "source": [
    "#### **Model Matematis**\n",
    "`prob_place` = (&alpha; * `pop_place`) / &Sigma; (&alpha; * `pop_place`) <br> \n",
    "1. `UNESA` = probabilitas datang * pop_unesa = 0.2 * 70 = `14 orang` <br>\n",
    "2. `ITTS` = probabilitas datang * pop_itts = 0.2 * 60 = `12 orang` <br>\n",
    "3. `Other` = probabilitas datang * pop_other = 0.2 * 40$ = `8 orang` <br>\n",
    "4. `Total` = 14 + 12 + 8 = `34`\n",
    "<br><br> dengan asumsi &alpha; minimum"
   ]
  },
  {
   "cell_type": "code",
   "execution_count": null,
   "metadata": {},
   "outputs": [],
   "source": [
    "prob_unesa = (0.2 * pop_unesa) / 34\n",
    "prob_itts = (0.2 * pop_itts) / 34\n",
    "prob_other = (0.2 * pop_other) / 34"
   ]
  },
  {
   "cell_type": "markdown",
   "metadata": {},
   "source": []
  },
  {
   "cell_type": "code",
   "execution_count": null,
   "metadata": {},
   "outputs": [],
   "source": [
    "def step(probUnesa, probItts, probOther, probBungkus):\n",
    "    if flip(probUnesa):\n",
    "        if flip(0.65):\n",
    "            unesa_to_swk()\n",
    "        else:\n",
    "            swk_to_unesa()\n",
    "    if flip(probItts):\n",
    "        if flip(0.6):\n",
    "            itts_to_swk()\n",
    "        else:\n",
    "            swk_to_itts()\n",
    "    if flip(probOther):\n",
    "        if flip(0.55):\n",
    "            other_to_swk()\n",
    "        else:\n",
    "            swk_to_other()\n",
    "    if flip(probBungkus):\n",
    "        perbungkusan()\n"
   ]
  },
  {
   "cell_type": "markdown",
   "metadata": {},
   "source": [
    "#### **Flow Step Simulasi**\n",
    "    1. Cek Probabilitas "
   ]
  },
  {
   "cell_type": "code",
   "execution_count": null,
   "metadata": {},
   "outputs": [],
   "source": [
    "def unesa_to_swk():\n",
    "    # print('Anak UNESA otiwi SWK')\n",
    "    if sim.unesa == 0:\n",
    "        sim.unesa_empty += 1\n",
    "        return\n",
    "    if sim.swk == swk_max:\n",
    "        if flip(0.65):\n",
    "            sim.everyone_bungkus += 1;\n",
    "            return\n",
    "        else:\n",
    "            return\n",
    "    sim.unesa -= 1\n",
    "    sim.swk += 1\n",
    "    \n",
    "def swk_to_unesa():\n",
    "    # print('Anak UNESA balik')\n",
    "    if sim.unesa == pop_unesa:\n",
    "        return\n",
    "    if sim.swk == 0:\n",
    "        return\n",
    "    sim.swk -= 1\n",
    "    sim.unesa += 1\n",
    "    \n",
    "\n",
    "\n",
    "def itts_to_swk():\n",
    "    # print('Anak ITTS otiwi SWK')\n",
    "    if sim.itts == 0:\n",
    "        sim.itts_empty += 1\n",
    "        return\n",
    "    if sim.swk == swk_max:\n",
    "        if flip(0.65):\n",
    "            sim.everyone_bungkus += 1;\n",
    "            return\n",
    "        else:\n",
    "            return\n",
    "    sim.itts -= 1\n",
    "    sim.swk += 1\n",
    "    \n",
    "def swk_to_itts():\n",
    "    # print('Anak ITTS balik')\n",
    "    if sim.itts == pop_itts:\n",
    "        return\n",
    "    if sim.swk == 0:\n",
    "        return\n",
    "    sim.swk -= 1\n",
    "    sim.itts += 1\n",
    "\n",
    "\n",
    "    \n",
    "def other_to_swk():\n",
    "    # print('Orang Lain otiwi SWK')\n",
    "    if sim.other == 0:\n",
    "        sim.other_empty += 1\n",
    "        return\n",
    "    if sim.swk == swk_max:\n",
    "        if flip(0.65):\n",
    "            sim.everyone_bungkus += 1;\n",
    "            return\n",
    "        else:\n",
    "            return\n",
    "    sim.other -= 1\n",
    "    sim.swk += 1\n",
    "    \n",
    "def swk_to_other():\n",
    "    # print('Orang Lain balik')\n",
    "    if sim.other == pop_other:\n",
    "        return\n",
    "    if sim.swk == 0:\n",
    "        return\n",
    "    sim.swk -= 1\n",
    "    sim.other += 1\n",
    "    \n",
    "def perbungkusan():\n",
    "    if flip(0.5):\n",
    "        if sim.everyone_bungkus == 0:\n",
    "            return\n",
    "        sim.everyone_bungkus -= 1;\n",
    "    if flip(0.5):\n",
    "        sim.everyone_bungkus += 1;\n",
    "        "
   ]
  },
  {
   "cell_type": "code",
   "execution_count": null,
   "metadata": {},
   "outputs": [],
   "source": []
  }
 ],
 "metadata": {
  "kernelspec": {
   "display_name": "modsim",
   "language": "python",
   "name": "python3"
  },
  "language_info": {
   "codemirror_mode": {
    "name": "ipython",
    "version": 3
   },
   "file_extension": ".py",
   "mimetype": "text/x-python",
   "name": "python",
   "nbconvert_exporter": "python",
   "pygments_lexer": "ipython3",
   "version": "3.9.16"
  },
  "orig_nbformat": 4
 },
 "nbformat": 4,
 "nbformat_minor": 2
}
