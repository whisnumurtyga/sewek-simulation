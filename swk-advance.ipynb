{
 "cells": [
  {
   "cell_type": "code",
   "execution_count": null,
   "metadata": {},
   "outputs": [],
   "source": [
    "# import functions from modsim\n",
    "from modsim import *"
   ]
  },
  {
   "cell_type": "code",
   "execution_count": null,
   "metadata": {},
   "outputs": [],
   "source": [
    "def unesa_to_swk():\n",
    "    print('Anak UNESA otiwi SWK')\n",
    "    if sim.unesa == 0:\n",
    "        sim.unesa_empty += 1\n",
    "        return\n",
    "    if sim.swk == swk_max:\n",
    "        return\n",
    "    sim.unesa -= 1\n",
    "    sim.swk += 1\n",
    "    \n",
    "def swk_to_unesa():\n",
    "    print('Anak UNESA balik')\n",
    "    if sim.unesa == pop_unesa:\n",
    "        return\n",
    "    if sim.swk == 0:\n",
    "        sim.swk_empty += 1\n",
    "        return\n",
    "    sim.swk -= 1\n",
    "    sim.unesa += 1\n",
    "    \n",
    "\n",
    "\n",
    "def itts_to_swk():\n",
    "    print('Anak ITTS otiwi SWK')\n",
    "    if sim.itts == 0:\n",
    "        sim.itts_empty += 1\n",
    "        return\n",
    "    if sim.swk == swk_max:\n",
    "        return\n",
    "    sim.itts -= 1\n",
    "    sim.swk += 1\n",
    "    \n",
    "def swk_to_itts():\n",
    "    print('Anak ITTS balik')\n",
    "    if sim.itts == pop_itts:\n",
    "        return\n",
    "    if sim.swk == 0:\n",
    "        sim.swk_empty += 1\n",
    "        return\n",
    "    sim.swk -= 1\n",
    "    sim.itts += 1\n",
    "\n",
    "\n",
    "    \n",
    "def other_to_swk():\n",
    "    print('Orang Lain otiwi SWK')\n",
    "    if sim.other == 0:\n",
    "        sim.other_empty += 1\n",
    "        return\n",
    "    if sim.swk == swk_max:\n",
    "        return\n",
    "    sim.other -= 1\n",
    "    sim.swk += 1\n",
    "    \n",
    "def swk_to_other():\n",
    "    print('Orang Lain balik')\n",
    "    if sim.other == pop_other:\n",
    "        return\n",
    "    if sim.swk == 0:\n",
    "        sim.swk_empty += 1\n",
    "        return\n",
    "    sim.swk -= 1\n",
    "    sim.other += 1"
   ]
  },
  {
   "cell_type": "code",
   "execution_count": null,
   "metadata": {},
   "outputs": [],
   "source": [
    "def step(probUnesa, probItts, probOther):\n",
    "    if flip(probUnesa):\n",
    "        if flip(0.7):\n",
    "            unesa_to_swk()\n",
    "        else:\n",
    "            swk_to_unesa()\n",
    "    if flip(probItts):\n",
    "        if flip(0.6):\n",
    "            itts_to_swk()\n",
    "        else:\n",
    "            swk_to_itts()\n",
    "    if flip(probOther):\n",
    "        if flip(0.5):\n",
    "            other_to_swk()\n",
    "        else:\n",
    "            swk_to_other()"
   ]
  },
  {
   "cell_type": "code",
   "execution_count": null,
   "metadata": {},
   "outputs": [],
   "source": [
    "pop_unesa = 100\n",
    "pop_itts = 60\n",
    "pop_other = 40\n",
    "swk_max = 50\n",
    "sim = State(unesa=pop_unesa, itts=pop_itts, other=pop_other, swk=0, unesa_empty=0, itts_empty=0, other_empty=0, swk_empty=0)"
   ]
  },
  {
   "cell_type": "code",
   "execution_count": null,
   "metadata": {},
   "outputs": [],
   "source": [
    "hasil1 = TimeSeries()\n",
    "hasil2 = TimeSeries()\n",
    "hasil3 = TimeSeries()\n",
    "hasil4 = TimeSeries()"
   ]
  },
  {
   "cell_type": "code",
   "execution_count": null,
   "metadata": {},
   "outputs": [],
   "source": [
    "for i in range(720):\n",
    "    print(i)\n",
    "    step(0.6, 0.45, 0.25)\n",
    "    hasil1[i+1] = sim.unesa\n",
    "    hasil2[i+1] = sim.itts\n",
    "    hasil3[i+1] = sim.other\n",
    "    hasil4[i+1] = sim.swk\n"
   ]
  },
  {
   "cell_type": "code",
   "execution_count": null,
   "metadata": {},
   "outputs": [],
   "source": [
    "plt.plot(hasil1, label='UNESA')\n",
    "plt.plot(hasil2, label='ITTS')\n",
    "plt.plot(hasil3, label='OTHER')\n",
    "plt.plot(hasil4, label='SWK')\n",
    "\n",
    "\n",
    "decorate(title='SWK SIMMULATION',\n",
    "         xlabel='Time step (min)', \n",
    "         ylabel='Number of People')"
   ]
  }
 ],
 "metadata": {
  "kernelspec": {
   "display_name": "modsim",
   "language": "python",
   "name": "python3"
  },
  "language_info": {
   "name": "python",
   "version": "3.9.16"
  },
  "orig_nbformat": 4
 },
 "nbformat": 4,
 "nbformat_minor": 2
}
