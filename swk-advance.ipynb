{
 "cells": [
  {
   "cell_type": "code",
   "execution_count": null,
   "metadata": {},
   "outputs": [],
   "source": [
    "pop_unesa = 100\n",
    "pop_itts = 60\n",
    "pop_other = 40\n",
    "swk_max = 50\n",
    "sim = State(unesa=pop_unesa, itts=pop_itts, other=pop_other, swk=0, unesa_empty=0, itts_empty=0, other_empty=0, swk_empty=0)"
   ]
  },
  {
   "cell_type": "code",
   "execution_count": null,
   "metadata": {},
   "outputs": [],
   "source": [
    "for i in range(720):\n",
    "    print(i)\n",
    "    step(0.6, 0.45, 0.25)\n",
    "    hasil1[i+1] = sim.unesa\n",
    "    hasil2[i+1] = sim.itts\n",
    "    hasil3[i+1] = sim.other\n",
    "    hasil4[i+1] = sim.swk\n"
   ]
  },
  {
   "cell_type": "code",
   "execution_count": null,
   "metadata": {},
   "outputs": [],
   "source": [
    "plt.plot(hasil1, label='UNESA')\n",
    "plt.plot(hasil2, label='ITTS')\n",
    "plt.plot(hasil3, label='OTHER')\n",
    "plt.plot(hasil4, label='SWK')\n",
    "\n",
    "\n",
    "decorate(title='SWK SIMMULATION',\n",
    "         xlabel='Time step (min)', \n",
    "         ylabel='Number of People')"
   ]
  }
 ],
 "metadata": {
  "kernelspec": {
   "display_name": "modsim",
   "language": "python",
   "name": "python3"
  },
  "language_info": {
   "name": "python",
   "version": "3.9.16"
  },
  "orig_nbformat": 4
 },
 "nbformat": 4,
 "nbformat_minor": 2
}
