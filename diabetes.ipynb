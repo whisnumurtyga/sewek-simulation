{
 "cells": [
  {
   "cell_type": "code",
   "execution_count": 3,
   "metadata": {},
   "outputs": [
    {
     "name": "stdout",
     "output_type": "stream",
     "text": [
      "Setelah 1 hari, gula darah mencapai tingkat tidak normal di atas 200 mg/dL.\n"
     ]
    }
   ],
   "source": [
    "def simulasi_gula_darah_sarapan(gula_darah_awal, kontribusi_makanan, penggunaan_insulin):\n",
    "    return gula_darah_awal + (kontribusi_makanan - penggunaan_insulin)\n",
    "\n",
    "# Input nilai awal\n",
    "gula_darah_awal = 90  # mg/dL\n",
    "kontribusi_makanan = 200  # mg/dL\n",
    "penggunaan_insulin = 50  # mg/dL\n",
    "\n",
    "# Iterasi simulasi untuk melihat berapa hari hingga gula darah mencapai tingkat tidak normal\n",
    "hari = 0\n",
    "while gula_darah_awal < 200:\n",
    "    gula_darah_setelah_sarapan = simulasi_gula_darah_sarapan(gula_darah_awal, kontribusi_makanan, penggunaan_insulin)\n",
    "    gula_darah_awal = gula_darah_setelah_sarapan\n",
    "    hari += 1\n",
    "\n",
    "print(f\"Setelah {hari} hari, gula darah mencapai tingkat tidak normal di atas 200 mg/dL.\")\n"
   ]
  }
 ],
 "metadata": {
  "kernelspec": {
   "display_name": "base",
   "language": "python",
   "name": "python3"
  },
  "language_info": {
   "codemirror_mode": {
    "name": "ipython",
    "version": 3
   },
   "file_extension": ".py",
   "mimetype": "text/x-python",
   "name": "python",
   "nbconvert_exporter": "python",
   "pygments_lexer": "ipython3",
   "version": "3.9.16"
  },
  "orig_nbformat": 4
 },
 "nbformat": 4,
 "nbformat_minor": 2
}
